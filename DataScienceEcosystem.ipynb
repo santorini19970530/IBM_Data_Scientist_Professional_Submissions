{
 "cells": [
  {
   "cell_type": "markdown",
   "id": "07050f42-304b-4add-bb0f-78d9f75920ee",
   "metadata": {},
   "source": [
    "# Data Science Tools and Ecosystem"
   ]
  },
  {
   "cell_type": "markdown",
   "id": "9ff6f666-eaf0-42ff-8885-3e46e22efa4d",
   "metadata": {},
   "source": [
    "In this notebook, Data Science Tools and Ecosystem are summarized."
   ]
  },
  {
   "cell_type": "markdown",
   "id": "9a36f15c-36fe-478c-ae36-0063c0c801e3",
   "metadata": {
    "tags": []
   },
   "source": [
    "**Objectives:**\n",
    "\n",
    "* List popular languages for Data Science\n",
    "* List popular libraries for Data Science\n",
    "* List popular Data Science tools"
   ]
  },
  {
   "cell_type": "markdown",
   "id": "80011ead-d6da-468f-9ea8-11a0dfd49243",
   "metadata": {},
   "source": [
    "Some of the popular languages that Data Scientists use are:\n",
    "\n",
    "1. Python\n",
    "2. JavaScript\n",
    "3. Excel VBA"
   ]
  },
  {
   "cell_type": "markdown",
   "id": "93c631ad-bc1d-4f34-b60c-a1ea637e279b",
   "metadata": {},
   "source": [
    "Some of the commonly used libraries used by Data Scientists include:\n",
    "\n",
    "1. Pandas\n",
    "2. Plotly\n",
    "3. NumPy\n"
   ]
  },
  {
   "cell_type": "markdown",
   "id": "bd55033e-45f5-4271-b6ba-1e84410e435f",
   "metadata": {},
   "source": [
    "| Data Science Tools |\n",
    "| - |\n",
    "| Python |\n",
    "| RStudio |\n",
    "| Jupyter |\n",
    "\n"
   ]
  },
  {
   "cell_type": "markdown",
   "id": "c5e35bfa-7cc5-4691-b105-950b0fbb1aa8",
   "metadata": {},
   "source": [
    "### Below are a few examples of evaluating arithmetic expressions in Python\n"
   ]
  },
  {
   "cell_type": "code",
   "execution_count": 2,
   "id": "447e5020-4e95-44ea-9fa9-cc9ac45a948e",
   "metadata": {
    "tags": []
   },
   "outputs": [
    {
     "data": {
      "text/plain": [
       "17"
      ]
     },
     "execution_count": 2,
     "metadata": {},
     "output_type": "execute_result"
    }
   ],
   "source": [
    "# This a simple arithmetic expression to mutiply then add integers\n",
    "(3*4) + 5"
   ]
  },
  {
   "cell_type": "code",
   "execution_count": 7,
   "id": "24818c7d-3967-41a5-9fe1-53ea76d83d80",
   "metadata": {
    "tags": []
   },
   "outputs": [
    {
     "name": "stdout",
     "output_type": "stream",
     "text": [
      "3.3333333333333335\n"
     ]
    }
   ],
   "source": [
    "# This will convert 200 minutes to hours by diving by 60\n",
    "\n",
    "minutes = 200\n",
    "hour_to_minute = 60\n",
    "hours = minutes / hour_to_minute\n",
    "print(hours)"
   ]
  },
  {
   "cell_type": "markdown",
   "id": "e4e36143-f200-4f27-b7f1-4cbc804d6583",
   "metadata": {},
   "source": [
    "## Author\n",
    "\n",
    "Ngai Chi Hung"
   ]
  },
  {
   "cell_type": "code",
   "execution_count": null,
   "id": "e1a3187f-d05b-4b9c-9b5c-ad0ae03c44db",
   "metadata": {},
   "outputs": [],
   "source": []
  }
 ],
 "metadata": {
  "kernelspec": {
   "display_name": "Python",
   "language": "python",
   "name": "conda-env-python-py"
  },
  "language_info": {
   "codemirror_mode": {
    "name": "ipython",
    "version": 3
   },
   "file_extension": ".py",
   "mimetype": "text/x-python",
   "name": "python",
   "nbconvert_exporter": "python",
   "pygments_lexer": "ipython3",
   "version": "3.7.12"
  }
 },
 "nbformat": 4,
 "nbformat_minor": 5
}
